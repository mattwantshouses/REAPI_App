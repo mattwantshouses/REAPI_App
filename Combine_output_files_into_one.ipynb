{
  "cells": [
    {
      "cell_type": "markdown",
      "metadata": {
        "colab_type": "text",
        "id": "view-in-github"
      },
      "source": [
        "<a href=\"https://colab.research.google.com/github/mattwantshouses/REAPI_App/blob/main/Combine_output_files_into_one.ipynb\" target=\"_parent\"><img src=\"https://colab.research.google.com/assets/colab-badge.svg\" alt=\"Open In Colab\"/></a>"
      ]
    },
    {
      "cell_type": "markdown",
      "metadata": {
        "id": "BMnm0pwBO8RP"
      },
      "source": [
        "# Combine the output files into one\n",
        "\n",
        "Use this when you have files in one google drive folder that need to be combined.\n",
        "\n",
        "Designed when the columns are all the same.\n",
        "\n",
        "\n",
        "---\n",
        "\n",
        "Instructions:\n",
        "\n",
        "1.   In Google drive, copy the folder ID that has the files\n",
        "     Ex: in https://drive.google.com/drive/folders/1dq-zCFoHpl30_f7BRquB_q5wOJnQsxWQ the folder ID = `1dq-zCFoHpl30_f7BRquB_q5wOJnQsxWQ`\n",
        "2.   Run the cells in order.\n",
        "3.   When prompted choose the files from the menu.\n",
        "4.   Make sure it completes then go check the drive folder for the file.\n",
        "\n"
      ]
    },
    {
      "cell_type": "code",
      "execution_count": null,
      "metadata": {
        "colab": {
          "base_uri": "https://localhost:8080/"
        },
        "id": "iv7AuU2Rqs4-",
        "outputId": "40a285bd-ab5e-485c-9b31-0cf8d8687930"
      },
      "outputs": [
        {
          "name": "stdout",
          "output_type": "stream",
          "text": [
            "Drive already mounted at /content/drive; to attempt to forcibly remount, call drive.mount(\"/content/drive\", force_remount=True).\n"
          ]
        }
      ],
      "source": [
        "import pandas as pd\n",
        "import io\n",
        "import sys\n",
        "import traceback\n",
        "from google.colab import drive, auth\n",
        "from googleapiclient.discovery import build\n",
        "from googleapiclient.http import MediaIoBaseDownload, MediaFileUpload\n",
        "from datetime import datetime\n",
        "\n",
        "# Authenticate and create the Drive API client\n",
        "auth.authenticate_user()\n",
        "drive_service = build('drive', 'v3', cache_discovery=False)\n",
        "\n",
        "# Mount Google Drive\n",
        "drive.mount('/content/drive')"
      ]
    },
    {
      "cell_type": "code",
      "execution_count": null,
      "metadata": {
        "colab": {
          "base_uri": "https://localhost:8080/"
        },
        "collapsed": true,
        "id": "SX-CVU3Nqwme",
        "outputId": "a062059f-868d-48f7-c6c4-3e7a6d874d26"
      },
      "outputs": [
        {
          "name": "stdout",
          "output_type": "stream",
          "text": [
            "Enter the Google Drive folder ID: 1dq-zCFoHpl30_f7BRquB_q5wOJnQsxWL\n",
            "Status: Listing files in the folder...\n",
            "\n",
            "Available files:\n",
            "1. test 07-16-24.csv\n",
            "2. FL_preforeclosure_batch_10_converted.csv\n",
            "3. FL_preforeclosure_batch_9_converted.csv\n",
            "4. FL_preforeclosure_batch_5_converted.csv\n",
            "5. FL_preforeclosure_batch_8_converted.csv\n",
            "6. .txt_converted.csv\n",
            "7. FL_preforeclosure_batch_7_converted.csv\n",
            "8. FL_preforeclosure_batch_2_converted.csv\n",
            "9. FL_preforeclosure_batch_3_converted.csv\n",
            "10. FL_preforeclosure_batch_4_converted.csv\n",
            "11. FL_preforeclosure_batch_1_converted.csv\n",
            "12. FL_preforeclosure_batch_6_converted.csv\n",
            "13. propgpt results - FL land parcels, pre-foreclosure or tax deliquent.csv\n",
            "14. FL_size_100.csv\n",
            "15. propgpt results - orange park preforeclosures.csv\n",
            "16. propgpt results - jacksonville private money lenders 12 months.csv\n",
            "\n",
            "File selection options:\n",
            "- Enter 'all' to select all files\n",
            "- Enter file numbers separated by commas (e.g., '1,3,5' to select files 1, 3, and 5)\n",
            "- Enter a range of files (e.g., '1-5' to select files 1 through 5)\n",
            "Your selection: 2-12\n",
            "\n",
            "Selected files:\n",
            "- FL_preforeclosure_batch_10_converted.csv\n",
            "- FL_preforeclosure_batch_9_converted.csv\n",
            "- FL_preforeclosure_batch_5_converted.csv\n",
            "- FL_preforeclosure_batch_8_converted.csv\n",
            "- .txt_converted.csv\n",
            "- FL_preforeclosure_batch_7_converted.csv\n",
            "- FL_preforeclosure_batch_2_converted.csv\n",
            "- FL_preforeclosure_batch_3_converted.csv\n",
            "- FL_preforeclosure_batch_4_converted.csv\n",
            "- FL_preforeclosure_batch_1_converted.csv\n",
            "- FL_preforeclosure_batch_6_converted.csv\n",
            "Status: Processing file 1 of 11: FL_preforeclosure_batch_10_converted.csv\n",
            "Status: Downloading file 1xP3imempu1A5equmqqamGu5dpeA550tx...\n",
            "Download 100% complete\n",
            "Progress: 9.09% complete\n",
            "Status: Processing file 2 of 11: FL_preforeclosure_batch_9_converted.csv\n",
            "Status: Downloading file 1mQyIOmm6VR1fQ2C8b5K_Vgpc9vPZDl-i...\n",
            "Download 100% complete\n",
            "Progress: 18.18% complete\n",
            "Status: Processing file 3 of 11: FL_preforeclosure_batch_5_converted.csv\n",
            "Status: Downloading file 1VwgYeh6icEV3Ee1eBzK9vKLedHvcrqA0...\n",
            "Download 100% complete\n",
            "Progress: 27.27% complete\n",
            "Status: Processing file 4 of 11: FL_preforeclosure_batch_8_converted.csv\n",
            "Status: Downloading file 1QH49T_95sXUsCpJrB3paBHusRURH_3bh...\n",
            "Download 100% complete\n",
            "Progress: 36.36% complete\n",
            "Status: Processing file 5 of 11: .txt_converted.csv\n",
            "Status: Downloading file 1Wu8qEvKcr0hjzkHsy7x4vsXcJgqmtBGj...\n",
            "Download 100% complete\n",
            "Progress: 45.45% complete\n",
            "Status: Processing file 6 of 11: FL_preforeclosure_batch_7_converted.csv\n",
            "Status: Downloading file 103NkcQwrGPuyiI4agyH5KXZPe6WwXImM...\n",
            "Download 100% complete\n",
            "Progress: 54.55% complete\n",
            "Status: Processing file 7 of 11: FL_preforeclosure_batch_2_converted.csv\n",
            "Status: Downloading file 1yuBAOJOFcoqX8SSQjl4frtEpK8sZ1XWz...\n",
            "Download 100% complete\n",
            "Progress: 63.64% complete\n",
            "Status: Processing file 8 of 11: FL_preforeclosure_batch_3_converted.csv\n",
            "Status: Downloading file 1jrMNBatNDDOJVSA-566JbyUNxXyP12-l...\n",
            "Download 100% complete\n",
            "Progress: 72.73% complete\n",
            "Status: Processing file 9 of 11: FL_preforeclosure_batch_4_converted.csv\n",
            "Status: Downloading file 13SoeMyOd_w8tTtNG-6fb_ipH-m_RjGYU...\n",
            "Download 100% complete\n",
            "Progress: 81.82% complete\n",
            "Status: Processing file 10 of 11: FL_preforeclosure_batch_1_converted.csv\n",
            "Status: Downloading file 1Ns9GBZAT5hF5XqXAExB-xqwT2ojjbF3G...\n",
            "Download 100% complete\n",
            "Progress: 90.91% complete\n",
            "Status: Processing file 11 of 11: FL_preforeclosure_batch_6_converted.csv\n",
            "Status: Downloading file 1uHGw6BlaC-yIRgIGP-K-SKfa2jdRRoAE...\n",
            "Download 100% complete\n",
            "Progress: 100.00% complete\n",
            "Status: Combining dataframes...\n",
            "Status: Preparing output file...\n",
            "Status: Saving output file...\n",
            "Status: Uploading combined file to Google Drive...\n",
            "Status: Uploading file combined FL_preforeclosure_ba 07-17-24.csv...\n",
            "Combined spreadsheet 'combined FL_preforeclosure_ba 07-17-24.csv' has been saved to the same Google Drive folder.\n",
            "File ID: 1OteXRkoQxEnDJHNGlEr8mFimdHr1dKJB\n"
          ]
        }
      ],
      "source": []
    }
  ],
  "metadata": {
    "colab": {
      "authorship_tag": "ABX9TyONy+MxPb7Yy8c+6thKLROe",
      "include_colab_link": true,
      "provenance": [],
      "toc_visible": true
    },
    "kernelspec": {
      "display_name": "Python 3",
      "name": "python3"
    },
    "language_info": {
      "name": "python"
    }
  },
  "nbformat": 4,
  "nbformat_minor": 0
}
